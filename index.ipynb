{
 "cells": [
  {
   "cell_type": "markdown",
   "metadata": {},
   "source": [
    "# JSON - Lab"
   ]
  },
  {
   "cell_type": "markdown",
   "metadata": {},
   "source": [
    "## Introduction\n",
    "\n",
    "In this lab, you'll practice navigating JSON data structures."
   ]
  },
  {
   "cell_type": "markdown",
   "metadata": {},
   "source": [
    "## Objectives\n",
    "\n",
    "You will be able to:\n",
    "\n",
    "* Practice using Python to load and parse JSON documents"
   ]
  },
  {
   "cell_type": "markdown",
   "metadata": {},
   "source": [
    "## Your Task: Find the Total Payments for Each Candidate\n",
    "\n",
    "We will be using the same dataset, `nyc_2001_campaign_finance.json`. The description of this file is:\n",
    "\n",
    "> A listing of public funds payments for candidates for City office during the 2001 election cycle\n",
    "\n",
    "For added context, the Ciy of New York provides matching funds for eligible contributions made to candidates, using various ratios depending on the contribution amount ([more details here](https://en.wikipedia.org/wiki/New_York_City_Campaign_Finance_Board#The_Campaign_Finance_Program)). So these are not the complete values of all funds raised by these candidates, they are the amounts matched by the city. For that reason we expect that some of the values will be identical for different candidates.\n",
    "\n",
    "The dataset is separated into `meta`, which contains metadata, and `data`, which contains the actual campaign finance records. You will need to use the information in `meta` to understand how to interpret the information in `data`.\n",
    "\n",
    "Your goal is to create a list of tuples, where the first value in each tuple is the name of a candidate in the 2001 election, and the second value is the total payments they received. The structure should look like this:\n",
    "\n",
    "```python\n",
    "[\n",
    "    (\"John Smith\", 62184.00),\n",
    "    (\"Jane Doe\", 133146.00),\n",
    "    ...\n",
    "]\n",
    "```\n",
    "\n",
    "The list should contain 284 tuples, since there were 284 candidates."
   ]
  },
  {
   "cell_type": "markdown",
   "metadata": {},
   "source": [
    "## Open the Dataset\n",
    "\n",
    "Import the `json` module, open the `nyc_2001_campaign_finance.json` file using the built-in Python `open` function, and load all of the data from the file into a Python object using `json.load`.\n",
    "\n",
    "Assign the result of `json.load` to the variable name `data`."
   ]
  },
  {
   "cell_type": "code",
   "execution_count": 4,
   "metadata": {},
   "outputs": [],
   "source": [
    "# Your code here\n",
    "import json\n",
    "\n",
    "with open(\"nyc_2001_campaign_finance.json\", \"r\") as file:\n",
    "    data = json.load(file)\n",
    "    "
   ]
  },
  {
   "cell_type": "markdown",
   "metadata": {},
   "source": [
    "Recall the overall structure of this dataset:"
   ]
  },
  {
   "cell_type": "code",
   "execution_count": 5,
   "metadata": {},
   "outputs": [
    {
     "name": "stdout",
     "output_type": "stream",
     "text": [
      "The overall data type is <class 'dict'>\n",
      "The keys are ['meta', 'data']\n",
      "\n",
      "The value associated with the 'meta' key has metadata, including all of these attributes:\n",
      "['id', 'name', 'attribution', 'averageRating', 'category', 'createdAt', 'description', 'displayType', 'downloadCount', 'hideFromCatalog', 'hideFromDataJson', 'indexUpdatedAt', 'newBackend', 'numberOfComments', 'oid', 'provenance', 'publicationAppendEnabled', 'publicationDate', 'publicationGroup', 'publicationStage', 'rowClass', 'rowsUpdatedAt', 'rowsUpdatedBy', 'tableId', 'totalTimesRated', 'viewCount', 'viewLastModified', 'viewType', 'columns', 'grants', 'metadata', 'owner', 'query', 'rights', 'tableAuthor', 'tags', 'flags']\n",
      "\n",
      "The value associated with the 'data' key is a list of 285 records\n"
     ]
    }
   ],
   "source": [
    "# Run this cell without changes\n",
    "\n",
    "print(f\"The overall data type is {type(data)}\")\n",
    "print(f\"The keys are {list(data.keys())}\")\n",
    "print()\n",
    "print(\"The value associated with the 'meta' key has metadata, including all of these attributes:\")\n",
    "print(list(data['meta']['view'].keys()))\n",
    "print()\n",
    "print(f\"The value associated with the 'data' key is a list of {len(data['data'])} records\")"
   ]
  },
  {
   "cell_type": "markdown",
   "metadata": {},
   "source": [
    "## Find the Column Names\n",
    "\n",
    "We know that each record in the data list looks something like this:"
   ]
  },
  {
   "cell_type": "code",
   "execution_count": 6,
   "metadata": {},
   "outputs": [
    {
     "data": {
      "text/plain": [
       "[2,\n",
       " '9D257416-581A-4C42-85CC-B6EAD9DED97F',\n",
       " 2,\n",
       " 1315925633,\n",
       " '392904',\n",
       " 1315925633,\n",
       " '392904',\n",
       " '{\\n}',\n",
       " '2001',\n",
       " 'B4',\n",
       " 'Aboulafia, Sandy',\n",
       " '5',\n",
       " None,\n",
       " '44',\n",
       " 'P',\n",
       " '45410.00',\n",
       " '0',\n",
       " '0',\n",
       " '45410.00']"
      ]
     },
     "execution_count": 6,
     "metadata": {},
     "output_type": "execute_result"
    }
   ],
   "source": [
    "# Run this cell without changes\n",
    "data['data'][1]"
   ]
  },
  {
   "cell_type": "markdown",
   "metadata": {},
   "source": [
    "We could probably guess which of those values is the candidate name, but it's unclear which value is the total payments received. To get that information, we need to look at the metadata.\n",
    "\n",
    "Investigate the value of `data['meta']['view']['columns']`.\n",
    "\n",
    "Let `data['meta']['view']['columns']` be called `column_data`. Verify that `column_data` results in a list."
   ]
  },
  {
   "cell_type": "code",
   "execution_count": 7,
   "metadata": {},
   "outputs": [
    {
     "name": "stdout",
     "output_type": "stream",
     "text": [
      "<class 'list'>\n"
     ]
    }
   ],
   "source": [
    "# Your code here (create more cells as needed)\n",
    "column_data = data['meta']['view']['columns']\n",
    "print(type(column_data))"
   ]
  },
  {
   "cell_type": "markdown",
   "metadata": {},
   "source": [
    "Now look at the first few entries of `column_data`.\n",
    "\n",
    "The result should look something like this:\n",
    "\n",
    "```python\n",
    "[\n",
    "    \"sid\",\n",
    "    \"id\",\n",
    "    \"position\",\n",
    "    ...\n",
    "]\n",
    "```"
   ]
  },
  {
   "cell_type": "code",
   "execution_count": 8,
   "metadata": {},
   "outputs": [
    {
     "name": "stdout",
     "output_type": "stream",
     "text": [
      "[{'id': -1, 'name': 'sid', 'dataTypeName': 'meta_data', 'fieldName': ':sid', 'position': 0, 'renderTypeName': 'meta_data', 'format': {}, 'flags': ['hidden']}, {'id': -1, 'name': 'id', 'dataTypeName': 'meta_data', 'fieldName': ':id', 'position': 0, 'renderTypeName': 'meta_data', 'format': {}, 'flags': ['hidden']}, {'id': -1, 'name': 'position', 'dataTypeName': 'meta_data', 'fieldName': ':position', 'position': 0, 'renderTypeName': 'meta_data', 'format': {}, 'flags': ['hidden']}, {'id': -1, 'name': 'created_at', 'dataTypeName': 'meta_data', 'fieldName': ':created_at', 'position': 0, 'renderTypeName': 'meta_data', 'format': {}, 'flags': ['hidden']}, {'id': -1, 'name': 'created_meta', 'dataTypeName': 'meta_data', 'fieldName': ':created_meta', 'position': 0, 'renderTypeName': 'meta_data', 'format': {}, 'flags': ['hidden']}]\n"
     ]
    },
    {
     "data": {
      "text/plain": [
       "['sid', 'id', 'position', 'candidate_name', 'total_payments']"
      ]
     },
     "execution_count": 8,
     "metadata": {},
     "output_type": "execute_result"
    }
   ],
   "source": [
    "# Your code here (create more cells as needed)\n",
    "print(column_data[:5])\n",
    "['sid', 'id', 'position', 'candidate_name', 'total_payments']\n",
    "# With a list, it's often useful to look at the\n",
    "# first entry, or first few entries"
   ]
  },
  {
   "cell_type": "markdown",
   "metadata": {},
   "source": [
    "`column_data` currently contains significantly more information than we need. Extract just the values associated with the `name` keys using list comprehension, so we have a list of the column names.\n",
    "\n",
    "Now name this variable `column_names`."
   ]
  },
  {
   "cell_type": "code",
   "execution_count": 9,
   "metadata": {},
   "outputs": [
    {
     "name": "stdout",
     "output_type": "stream",
     "text": [
      "[{'id': -1, 'name': 'sid', 'dataTypeName': 'meta_data', 'fieldName': ':sid', 'position': 0, 'renderTypeName': 'meta_data', 'format': {}, 'flags': ['hidden']}, {'id': -1, 'name': 'id', 'dataTypeName': 'meta_data', 'fieldName': ':id', 'position': 0, 'renderTypeName': 'meta_data', 'format': {}, 'flags': ['hidden']}, {'id': -1, 'name': 'position', 'dataTypeName': 'meta_data', 'fieldName': ':position', 'position': 0, 'renderTypeName': 'meta_data', 'format': {}, 'flags': ['hidden']}, {'id': -1, 'name': 'created_at', 'dataTypeName': 'meta_data', 'fieldName': ':created_at', 'position': 0, 'renderTypeName': 'meta_data', 'format': {}, 'flags': ['hidden']}, {'id': -1, 'name': 'created_meta', 'dataTypeName': 'meta_data', 'fieldName': ':created_meta', 'position': 0, 'renderTypeName': 'meta_data', 'format': {}, 'flags': ['hidden']}]\n"
     ]
    }
   ],
   "source": [
    "# Your code here (create more cells as needed)\n",
    "\n",
    "column_names = [column for column in column_data]\n",
    "print(column_names[:5])"
   ]
  },
  {
   "cell_type": "code",
   "execution_count": 10,
   "metadata": {},
   "outputs": [
    {
     "ename": "AssertionError",
     "evalue": "",
     "output_type": "error",
     "traceback": [
      "\u001b[1;31m---------------------------------------------------------------------------\u001b[0m",
      "\u001b[1;31mAssertionError\u001b[0m                            Traceback (most recent call last)",
      "Cell \u001b[1;32mIn[10], line 6\u001b[0m\n\u001b[0;32m      4\u001b[0m \u001b[38;5;28;01massert\u001b[39;00m \u001b[38;5;28mlen\u001b[39m(column_names) \u001b[38;5;241m==\u001b[39m \u001b[38;5;241m19\u001b[39m\n\u001b[0;32m      5\u001b[0m \u001b[38;5;66;03m# CANDNAME and TOTALPAY should be in there\u001b[39;00m\n\u001b[1;32m----> 6\u001b[0m \u001b[38;5;28;01massert\u001b[39;00m \u001b[38;5;124m\"\u001b[39m\u001b[38;5;124mCANDNAME\u001b[39m\u001b[38;5;124m\"\u001b[39m \u001b[38;5;129;01min\u001b[39;00m column_names \u001b[38;5;129;01mand\u001b[39;00m \u001b[38;5;124m\"\u001b[39m\u001b[38;5;124mTOTALPAY\u001b[39m\u001b[38;5;124m\"\u001b[39m \u001b[38;5;129;01min\u001b[39;00m column_names\n",
      "\u001b[1;31mAssertionError\u001b[0m: "
     ]
    }
   ],
   "source": [
    "# Run this cell without changes\n",
    "\n",
    "# There should be 19 names\n",
    "assert len(column_names) == 19\n",
    "# CANDNAME and TOTALPAY should be in there\n",
    "assert \"CANDNAME\" in column_names and \"TOTALPAY\" in column_names"
   ]
  },
  {
   "cell_type": "markdown",
   "metadata": {},
   "source": [
    "Now we know what each of the columns represents.\n",
    "\n",
    "The columns we are looking for are called `CANDNAME` and `TOTALPAY`. Now that we have this list, we should be able to figure out which of the values in each record lines up with those column names."
   ]
  },
  {
   "cell_type": "markdown",
   "metadata": {},
   "source": [
    "## Loop Over the Records to Find the Names and Payments\n",
    "\n",
    "The data records are contained in `data['data']`. \n",
    "\n",
    "To loop over the records to find the names and payments, first we need to determine the indices of the candidate names and the total payments.\n",
    "\n",
    "Let `name_index` be the column names of `CANDNAME` and `total_payments_index` be the column names of `TOTALPAY`. After correctly defining `name_index` and `total_payments_index`, print their respective indices.\n",
    "\n"
   ]
  },
  {
   "cell_type": "code",
   "execution_count": 11,
   "metadata": {},
   "outputs": [
    {
     "ename": "ValueError",
     "evalue": "'CANDNAME' is not in list",
     "output_type": "error",
     "traceback": [
      "\u001b[1;31m---------------------------------------------------------------------------\u001b[0m",
      "\u001b[1;31mValueError\u001b[0m                                Traceback (most recent call last)",
      "Cell \u001b[1;32mIn[11], line 7\u001b[0m\n\u001b[0;32m      2\u001b[0m headers \u001b[38;5;241m=\u001b[39m data[\u001b[38;5;124m'\u001b[39m\u001b[38;5;124mdata\u001b[39m\u001b[38;5;124m'\u001b[39m]\n\u001b[0;32m      3\u001b[0m \u001b[38;5;66;03m# In theory we could just look at the list and\u001b[39;00m\n\u001b[0;32m      4\u001b[0m \u001b[38;5;66;03m# count by hand to figure out the index of these\u001b[39;00m\n\u001b[0;32m      5\u001b[0m \u001b[38;5;66;03m# strings, but Python can do it for us\u001b[39;00m\n\u001b[1;32m----> 7\u001b[0m name_index \u001b[38;5;241m=\u001b[39m headers\u001b[38;5;241m.\u001b[39mindex(\u001b[38;5;124m\"\u001b[39m\u001b[38;5;124mCANDNAME\u001b[39m\u001b[38;5;124m\"\u001b[39m)\n\u001b[0;32m      8\u001b[0m total_payments_index \u001b[38;5;241m=\u001b[39m headers\u001b[38;5;241m.\u001b[39mindex(\u001b[38;5;124m\"\u001b[39m\u001b[38;5;124mTOTALPAY\u001b[39m\u001b[38;5;124m\"\u001b[39m)\n\u001b[0;32m     10\u001b[0m \u001b[38;5;28mprint\u001b[39m(\u001b[38;5;124m\"\u001b[39m\u001b[38;5;124mCANDNAME Index:\u001b[39m\u001b[38;5;124m\"\u001b[39m, name_index)\n",
      "\u001b[1;31mValueError\u001b[0m: 'CANDNAME' is not in list"
     ]
    }
   ],
   "source": [
    "# Your code here (create more cells as needed)\n",
    "headers = data['data']\n",
    "# In theory we could just look at the list and\n",
    "# count by hand to figure out the index of these\n",
    "# strings, but Python can do it for us\n",
    "\n",
    "name_index = headers.index(\"CANDNAME\")\n",
    "total_payments_index = headers.index(\"TOTALPAY\")\n",
    "\n",
    "print(\"CANDNAME Index:\", name_index)\n",
    "print(\"TOTALPAY Index:\", total_payments_index)"
   ]
  },
  {
   "cell_type": "markdown",
   "metadata": {},
   "source": [
    "Now loop over the records in `data['data']` and extract the name from `name_index` and total payment from `total_payments_index`. Make sure you convert the total payment to a float, then make a tuple representing that candidate. Append the tuple to an overall list of results called `candidate_total_payments`.\n",
    "\n",
    "Recall that the first (`0`-th) one is more of a header and should be skipped over.\n",
    "\n",
    "To verify that your loop worked, print the first five and the last five records."
   ]
  },
  {
   "cell_type": "code",
   "execution_count": 12,
   "metadata": {},
   "outputs": [
    {
     "ename": "NameError",
     "evalue": "name 'name_index' is not defined",
     "output_type": "error",
     "traceback": [
      "\u001b[1;31m---------------------------------------------------------------------------\u001b[0m",
      "\u001b[1;31mNameError\u001b[0m                                 Traceback (most recent call last)",
      "Cell \u001b[1;32mIn[12], line 7\u001b[0m\n\u001b[0;32m      5\u001b[0m \u001b[38;5;66;03m# Loop over records starting at index 1 to skip header\u001b[39;00m\n\u001b[0;32m      6\u001b[0m \u001b[38;5;28;01mfor\u001b[39;00m record \u001b[38;5;129;01min\u001b[39;00m data[\u001b[38;5;124m'\u001b[39m\u001b[38;5;124mdata\u001b[39m\u001b[38;5;124m'\u001b[39m][\u001b[38;5;241m1\u001b[39m:]:  \n\u001b[1;32m----> 7\u001b[0m     name \u001b[38;5;241m=\u001b[39m record[name_index]  \n\u001b[0;32m      8\u001b[0m     total_payment \u001b[38;5;241m=\u001b[39m \u001b[38;5;28mfloat\u001b[39m(record[total_payments_index]) \n\u001b[0;32m      9\u001b[0m     candidate_total_payments\u001b[38;5;241m.\u001b[39mappend((name, total_payment)) \n",
      "\u001b[1;31mNameError\u001b[0m: name 'name_index' is not defined"
     ]
    }
   ],
   "source": [
    "# Your code here (create more cells as needed)\n",
    "\n",
    "candidate_total_payments = []\n",
    "\n",
    "# Loop over records starting at index 1 to skip header\n",
    "for record in data['data'][1:]:  \n",
    "    name = record[name_index]  \n",
    "    total_payment = float(record[total_payments_index]) \n",
    "    candidate_total_payments.append((name, total_payment)) \n",
    "\n",
    "\n",
    "# Print the first five and last five\n",
    "print(\"First five records:\", candidate_total_payments[:5])\n",
    "print(\"Last five records:\", candidate_total_payments[-5:])"
   ]
  },
  {
   "cell_type": "code",
   "execution_count": 13,
   "metadata": {},
   "outputs": [
    {
     "ename": "AssertionError",
     "evalue": "",
     "output_type": "error",
     "traceback": [
      "\u001b[1;31m---------------------------------------------------------------------------\u001b[0m",
      "\u001b[1;31mAssertionError\u001b[0m                            Traceback (most recent call last)",
      "Cell \u001b[1;32mIn[13], line 4\u001b[0m\n\u001b[0;32m      1\u001b[0m \u001b[38;5;66;03m# Run this cell without changes\u001b[39;00m\n\u001b[0;32m      2\u001b[0m \n\u001b[0;32m      3\u001b[0m \u001b[38;5;66;03m# There should be 284 records\u001b[39;00m\n\u001b[1;32m----> 4\u001b[0m \u001b[38;5;28;01massert\u001b[39;00m \u001b[38;5;28mlen\u001b[39m(candidate_total_payments) \u001b[38;5;241m==\u001b[39m \u001b[38;5;241m284\u001b[39m\n\u001b[0;32m      6\u001b[0m \u001b[38;5;66;03m# Each record should contain a tuple\u001b[39;00m\n\u001b[0;32m      7\u001b[0m \u001b[38;5;28;01massert\u001b[39;00m \u001b[38;5;28mtype\u001b[39m(candidate_total_payments[\u001b[38;5;241m0\u001b[39m]) \u001b[38;5;241m==\u001b[39m \u001b[38;5;28mtuple\u001b[39m\n",
      "\u001b[1;31mAssertionError\u001b[0m: "
     ]
    }
   ],
   "source": [
    "# Run this cell without changes\n",
    "\n",
    "# There should be 284 records\n",
    "assert len(candidate_total_payments) == 284\n",
    "\n",
    "# Each record should contain a tuple\n",
    "assert type(candidate_total_payments[0]) == tuple\n",
    "\n",
    "# That tuple should contain a string and a number\n",
    "assert len(candidate_total_payments[0]) == 2\n",
    "assert type(candidate_total_payments[0][0]) == str\n",
    "assert type(candidate_total_payments[0][1]) == float"
   ]
  },
  {
   "cell_type": "markdown",
   "metadata": {},
   "source": [
    "Now that we have this result, we can answer questions like: *which candidates received the most total payments from the city*?"
   ]
  },
  {
   "cell_type": "code",
   "execution_count": 14,
   "metadata": {},
   "outputs": [
    {
     "data": {
      "text/plain": [
       "[]"
      ]
     },
     "execution_count": 14,
     "metadata": {},
     "output_type": "execute_result"
    }
   ],
   "source": [
    "# Run this cell without changes\n",
    "\n",
    "# Print the top 10 candidates by total payments\n",
    "sorted(candidate_total_payments, key=lambda x: x[1], reverse=True)[:10]"
   ]
  },
  {
   "cell_type": "markdown",
   "metadata": {},
   "source": [
    "Since you found all of the column names, it is also possible to display all of the data in a nice tabular format using pandas. That code would look like this:"
   ]
  },
  {
   "cell_type": "code",
   "execution_count": null,
   "metadata": {},
   "outputs": [],
   "source": [
    "# Run this cell without changes\n",
    "\n",
    "import pandas as pd\n",
    "\n",
    "pd.DataFrame(data=data['data'][1:], columns=column_names)"
   ]
  },
  {
   "cell_type": "markdown",
   "metadata": {},
   "source": [
    "## Summary\n",
    "\n",
    "You've started exploring some more JSON data structures used for the web and got to practice data munging and exploring."
   ]
  }
 ],
 "metadata": {
  "kernelspec": {
   "display_name": "Python 3 (ipykernel)",
   "language": "python",
   "name": "python3"
  },
  "language_info": {
   "codemirror_mode": {
    "name": "ipython",
    "version": 3
   },
   "file_extension": ".py",
   "mimetype": "text/x-python",
   "name": "python",
   "nbconvert_exporter": "python",
   "pygments_lexer": "ipython3",
   "version": "3.12.7"
  },
  "toc": {
   "base_numbering": 1,
   "nav_menu": {},
   "number_sections": true,
   "sideBar": true,
   "skip_h1_title": false,
   "title_cell": "Table of Contents",
   "title_sidebar": "Contents",
   "toc_cell": false,
   "toc_position": {},
   "toc_section_display": true,
   "toc_window_display": false
  }
 },
 "nbformat": 4,
 "nbformat_minor": 4
}
